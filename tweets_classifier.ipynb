{
  "cells": [
    {
      "cell_type": "markdown",
      "metadata": {
        "id": "-chXGqykT19o"
      },
      "source": [
        "## Importar librerías"
      ]
    },
    {
      "cell_type": "code",
      "execution_count": 4,
      "metadata": {
        "id": "Yda6XTJ2Tiz7"
      },
      "outputs": [
        {
          "ename": "ModuleNotFoundError",
          "evalue": "No module named 'openai'",
          "output_type": "error",
          "traceback": [
            "\u001b[0;31m---------------------------------------------------------------------------\u001b[0m",
            "\u001b[0;31mModuleNotFoundError\u001b[0m                       Traceback (most recent call last)",
            "\u001b[0;32m/tmp/ipykernel_32195/4123448806.py\u001b[0m in \u001b[0;36m<module>\u001b[0;34m\u001b[0m\n\u001b[0;32m----> 1\u001b[0;31m \u001b[0;32mimport\u001b[0m \u001b[0mopenai\u001b[0m\u001b[0;34m\u001b[0m\u001b[0;34m\u001b[0m\u001b[0m\n\u001b[0m\u001b[1;32m      2\u001b[0m \u001b[0;32mfrom\u001b[0m \u001b[0mdotenv\u001b[0m \u001b[0;32mimport\u001b[0m \u001b[0mload_dotenv\u001b[0m\u001b[0;34m\u001b[0m\u001b[0;34m\u001b[0m\u001b[0m\n\u001b[1;32m      3\u001b[0m \u001b[0;32mimport\u001b[0m \u001b[0mos\u001b[0m\u001b[0;34m\u001b[0m\u001b[0;34m\u001b[0m\u001b[0m\n",
            "\u001b[0;31mModuleNotFoundError\u001b[0m: No module named 'openai'"
          ]
        }
      ],
      "source": [
        "import openai\n",
        "from dotenv import load_dotenv\n",
        "import os"
      ]
    },
    {
      "cell_type": "markdown",
      "metadata": {
        "id": "rlk32AjFT6KU"
      },
      "source": [
        "## Cargar API Key de OpenAI"
      ]
    },
    {
      "cell_type": "code",
      "execution_count": null,
      "metadata": {},
      "outputs": [],
      "source": [
        "load_dotenv()\n",
        "API_KEY = os.environ[\"OPENAI_API\"]\n",
        "openai.api_key = API_KEY"
      ]
    },
    {
      "cell_type": "markdown",
      "metadata": {
        "id": "fuKoxVYtUEVE"
      },
      "source": [
        "## Clasificador de Tweets con Completion\n",
        "\n",
        "Fuente Tweet: https://twitter.com/platzi/status/1661836230424666130"
      ]
    },
    {
      "cell_type": "code",
      "execution_count": null,
      "metadata": {
        "id": "rAydwHmcRcfn"
      },
      "outputs": [],
      "source": [
        "response = openai.Completion.create(\n",
        "  model=,\n",
        "  prompt=\"Decide si el sentimiento de un Tweet es positivo, neutral, o negativo. \\\n",
        "  \\n\\nTweet: \\\"#LoNuevoEnPlatzi es el Platzibot 🤖. Un asistente creado con Inteligencia Artificial para acompañarte en tu proceso de aprendizaje.\\\n",
        "  \\\"\\nSentiment:\",\n",
        "  temperature=,\n",
        "  max_tokens=,\n",
        "  top_p=,\n",
        "  frequency_penalty=,\n",
        "  presence_penalty=\n",
        ")"
      ]
    },
    {
      "cell_type": "markdown",
      "metadata": {
        "id": "HZsHLJOyUL4Q"
      },
      "source": [
        "## Imprimir respuesta"
      ]
    },
    {
      "cell_type": "code",
      "execution_count": null,
      "metadata": {
        "id": "VhB5V2k_SgIR"
      },
      "outputs": [],
      "source": [
        "response.choices[0].text"
      ]
    }
  ],
  "metadata": {
    "colab": {
      "provenance": []
    },
    "kernelspec": {
      "display_name": "Python 3",
      "name": "python3"
    },
    "language_info": {
      "codemirror_mode": {
        "name": "ipython",
        "version": 3
      },
      "file_extension": ".py",
      "mimetype": "text/x-python",
      "name": "python",
      "nbconvert_exporter": "python",
      "pygments_lexer": "ipython3",
      "version": "3.10.6"
    }
  },
  "nbformat": 4,
  "nbformat_minor": 0
}
